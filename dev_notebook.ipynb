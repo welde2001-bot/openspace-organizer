{
 "cells": [
  {
   "cell_type": "markdown",
   "id": "46ccd25f",
   "metadata": {},
   "source": [
    "# Open Space Organizer\n",
    "\n",
    "We want to create a program that assigns 24 people to 6 tables in an openspace. Before getting started, take inventory what do we need:\n",
    "\n",
    "- People\n",
    "- Seats & Tables\n",
    "- An OpenSpace\n",
    "\n",
    "It's a good practice to start simple while you grasp the logic of the program you are trying to build and test often. For us this can translate to,\n",
    "\n",
    "- People -> List of Names (later we can figure out how to use a file)\n",
    "- Seats & Tables -> Class\n",
    "- An OpenSpace -> Class\n",
    "\n",
    "Below I've created a list of your new colleagues for reference!"
   ]
  },
  {
   "cell_type": "code",
   "execution_count": 26,
   "id": "d2272fa0",
   "metadata": {},
   "outputs": [],
   "source": [
    "new_collegues = [\"Aleksei\",\"Amine\",\"Anna\",\"Astha\",\"Brigitta\",\n",
    "                 \"Bryan\",\"Ena\",\"Esra\",\"Faranges\",\"Frédéric\",\n",
    "                 \"Hamideh\",\"Héloïse\",\"Imran\",\"Intan K.\",\n",
    "                 \"Jens\",\"Kristin\",\"Michiel\",\"Nancy\",\"Pierrick\",\n",
    "                 \"Sandrine\",\"Tim\",\"Viktor\",\"Welederufeal\",\"Živile\"]"
   ]
  },
  {
   "cell_type": "markdown",
   "id": "5331eef9",
   "metadata": {},
   "source": [
    "## Step 1: Build a Seat\n",
    "\n",
    "Create a class called `Seat` with two attributes:\n",
    "\n",
    "- `free` which is a boolean.\n",
    "- `occupant` which is a string.\n",
    "\n",
    "and 2 functions : \n",
    "\n",
    "- `set_occupant(name)` which allows the program to assign someone a seat if it's free\n",
    "- `remove_occupant()` which  remove someone from a seat and return the name of the person occupying the seat before\n"
   ]
  },
  {
   "cell_type": "code",
   "execution_count": 27,
   "id": "b2206876",
   "metadata": {},
   "outputs": [],
   "source": [
    "class Seat:\n",
    "\n",
    "    def __init__(self):\n",
    "        self.free = True\n",
    "        self.occupant = None\n",
    "\n",
    "    def set_occupant(self,name):\n",
    "        \n",
    "        if self.free == True:\n",
    "            self.occupant= name\n",
    "            self.free = False\n",
    "        else:\n",
    "            print(\"Seat is already occupied.\")\n",
    "        return None\n",
    "    def remove_occupant(self):\n",
    "        if self.free == False:\n",
    "            name = self.occupant\n",
    "            self.occupant = None\n",
    "            self.free = True\n",
    "        else:\n",
    "            print(\"Seat is already free.\")\n",
    "        return None\n"
   ]
  },
  {
   "cell_type": "code",
   "execution_count": 44,
   "id": "97ec69ff",
   "metadata": {},
   "outputs": [],
   "source": [
    "# Test your code (assign yourself you a Seat)\n"
   ]
  },
  {
   "cell_type": "markdown",
   "id": "12d6834f",
   "metadata": {},
   "source": [
    "What is the input and the output of your Seat class? Does it make sense?\n",
    "\n",
    "## Step 2: Build a Table\n",
    "\n",
    "Create a class `Table` with ? attributes:\n",
    "\n",
    "- `capacity` which is an integer\n",
    "- `seats` which is a list of `Seat` objects (size = `capacity`)\n",
    "\n",
    "and 3 functions : \n",
    "- `has_free_spot()` that returns a boolean (True if a spot is available)\n",
    "- `assign_seat(name)` that places someone at the table\n",
    "- `left_capacity()` that returns an integer\n",
    "\n",
    "Question: Which attributes make sense to give? For now let's say we want to build 6 tables with 4 seats.\n"
   ]
  },
  {
   "cell_type": "code",
   "execution_count": 32,
   "id": "d64b76c8",
   "metadata": {},
   "outputs": [],
   "source": [
    "#from seat import Seat   \n",
    "\n",
    "class Table(Seat):\n",
    "    def __init__(self, capacity: int):\n",
    "        \n",
    "        super().__init__()\n",
    "        self.capacity = capacity\n",
    "        self.seats = [Seat() for _ in range(capacity)]\n",
    "\n",
    "    def has_free_spot(self) -> bool:\n",
    "        for seat in self.seats:         # Iterate through each seat in the table\n",
    "            if seat.free == True:       # if the seat is free, return True\n",
    "                print(\"There is a free spot in the table\")\n",
    "                return True\n",
    "        print(\"No free spots available in the table\")\n",
    "        return False                       # If no free seats found, return False\n",
    "    def assign_seat(self, name: str) -> bool:\n",
    "        \"\"\"\n",
    "        Assign a person to the first free seat in the table.\n",
    "        param name: Name of the person to assign a seat to.\n",
    "        return: True if a seat was assigned, False otherwise.\n",
    "        \"\"\"\n",
    "        for seat in self.seats:         # Iterate through each seat in the table\n",
    "            if seat.free == True:       # if the seat is free\n",
    "                seat.set_occupant(name) # assign the occupant to that seat\n",
    "                print(f\"{name} has been assigned a seat.\")\n",
    "                return True             # Return True after assigning the seat\n",
    "        print(f\"No free seats available for {name}.\")\n",
    "        return False                    # If no free seats found, return False\n",
    "    def left_capacity(self) -> int:\n",
    "        \"\"\"\n",
    "        Calculate the number of free seats left in the table.\n",
    "        return: Number of free seats.\n",
    "        \"\"\"\n",
    "        free_seat_count = 0  \n",
    "        for seat in self.seats:\n",
    "            if seat.free == True: \n",
    "                free_seat_count += 1  # Increment the counter\n",
    "            return free_seat_count\n"
   ]
  },
  {
   "cell_type": "code",
   "execution_count": null,
   "id": "108ce578",
   "metadata": {},
   "outputs": [],
   "source": [
    "# Test your code (assign the colleagues at your table to a Table)"
   ]
  },
  {
   "cell_type": "markdown",
   "id": "75f177c6",
   "metadata": {},
   "source": [
    "Does the output of you test make sense? Check that each method returns the correct value."
   ]
  },
  {
   "cell_type": "markdown",
   "id": "5b395b9e",
   "metadata": {},
   "source": [
    "## Step 3: Build an OpenSpace\n",
    "\n",
    "Create a class `Openspace` that contains these attributes:\n",
    "\n",
    "- `tables` which is a list of `Table`. _(you will need to import `Table` from `table.py`)_. \n",
    "- `number_of_tables` which is an integer.\n",
    "\n",
    "And some methods:\n",
    "\n",
    "- `organize(names)` that will:\n",
    "  - **randomly** assign people to `Seat` objects in the different `Table` objects.\n",
    "- `display()` display the different tables and there occupants in a nice and readable way\n",
    "- `store(filename)` store the repartition in an file"
   ]
  },
  {
   "cell_type": "code",
   "execution_count": 43,
   "id": "1eed7151",
   "metadata": {},
   "outputs": [],
   "source": [
    "\"\"\" ThisThis module defines the Openspace class which manages multiple tables and\n",
    "randomly assigns colleagues to seats every day.\"\"\"\n",
    "\n",
    "\n",
    "import random\n",
    "#from table import Table  \n",
    "\n",
    "class OpenSpace(Table):\n",
    "    def __init__(self, number_of_tables, seats_per_table=4):\n",
    "\n",
    "        \"\"\"\n",
    "        Initialize the OpenSpace with a given number of tables and seats per table.\n",
    "        Args: \n",
    "             number_of_tables(int): Number of tables in the open space.\n",
    "             seats_per_table(int) : Number of seats peer table\n",
    "\n",
    "        \"\"\"\n",
    "        super().__init__()\n",
    "        self.number_of_table = number_of_tables\n",
    "        self.tables =[Table(seats_per_table) for _ in range(number_of_tables)]\n",
    "   \n",
    "   \n",
    "    def organize(self, names):\n",
    "\n",
    "        \"\"\"\n",
    "        Randomly assigns people to available seats in the open space.\n",
    "        Args:\n",
    "             names(list): List of names to assign to seats.4\n",
    "\n",
    "          \"\"\"    \n",
    "        random.shuffle(names)    #   Randomize seating\n",
    "        all_seats = []\n",
    "        for table in self.tables:\n",
    "            for seat in table.seats:\n",
    "                all_seats.append(seat)\n",
    "        for seat in all_seats:\n",
    "            seat.remove_occupant()\n",
    "        for name, seat in zip(names,all_seats):\n",
    "            seat.set_occupant(name)\n",
    "    def display(self):\n",
    "         \"\"\"\n",
    "         Print a readable representation of all tables and their occupants.\n",
    "\n",
    "         \"\"\"\n",
    "         for i , table in enumerate(self.tables, start = 1):\n",
    "            occupants = [seat.occupant if not seat.free else \"Empty\" for seat in table.seats]\n",
    "            print(f\"Table {i}: {', '.join(occupants)}\")\n",
    "    def store(self, Seating_plan):\n",
    "     \n",
    "          \"\"\"\n",
    "         Store the current seat distribution into a file called 'seating_plan'.\n",
    "\n",
    "         Args:\n",
    "         filename (str): The name of the file to store seating arrangement.\n",
    "         \"\"\"\n",
    "          with open(\"Seating_plan.txt\", \"w\") as file:\n",
    "            for i, table in enumerate(self.tables, start=1):\n",
    "               occupants = [seat.occupant if not seat.free else \"Empty\" for seat in table.seats]\n",
    "            file.write(f\"Table {i}: {', '.join(occupants)}\\n\")\n",
    "            print(f\"Seating arrangement saved to '{filename}' successfully!\")\n"
   ]
  },
  {
   "cell_type": "code",
   "execution_count": null,
   "id": "6c20824f",
   "metadata": {},
   "outputs": [],
   "source": [
    "# Test your code (assign everyone in the class to a table)"
   ]
  },
  {
   "cell_type": "markdown",
   "id": "0d3923a8",
   "metadata": {},
   "source": [
    "Hurray! You have the algorithm logic working. Next steps we transform this into some scripts! **Big note:** Once you move to the scrips you may need to adapt your logic, don't fret this is normal!"
   ]
  }
 ],
 "metadata": {
  "kernelspec": {
   "display_name": "Python 3",
   "language": "python",
   "name": "python3"
  },
  "language_info": {
   "codemirror_mode": {
    "name": "ipython",
    "version": 3
   },
   "file_extension": ".py",
   "mimetype": "text/x-python",
   "name": "python",
   "nbconvert_exporter": "python",
   "pygments_lexer": "ipython3",
   "version": "3.14.0"
  }
 },
 "nbformat": 4,
 "nbformat_minor": 5
}
