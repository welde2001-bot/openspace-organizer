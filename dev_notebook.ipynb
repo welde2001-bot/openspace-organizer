{
  "cells": [
    {
      "cell_type": "code",
      "execution_count": 1,
      "metadata": {},
      "outputs": [],
      "source": [
        "from utils.table import Seat, Table\n",
        "from utils.openspace import OpenSpace"
      ]
    },
    {
      "cell_type": "code",
      "execution_count": 3,
      "metadata": {},
      "outputs": [
        {
          "name": "stdout",
          "output_type": "stream",
          "text": [
            "📋 Loaded 24 team members.\n"
          ]
        }
      ],
      "source": [
        "new_collegues = [\"Aleksei\",\"Amine\",\"Anna\",\"Astha\",\"Brigitta\",\n",
        "                 \"Bryan\",\"Ena\",\"Esra\",\"Faranges\",\"Frédéric\",\n",
        "                 \"Hamideh\",\"Héloïse\",\"Imran\",\"Intan K.\",\n",
        "                 \"Jens\",\"Kristin\",\"Michiel\",\"Nancy\",\"Pierrick\",\n",
        "                 \"Sandrine\",\"Tim\",\"Viktor\",\"Welederufeal\",\"Živile\"]\n",
        "print(f'📋 Loaded {len(new_collegues)} team members.')"
      ]
    },
    {
      "cell_type": "markdown",
      "metadata": {},
      "source": []
    },
    {
      "cell_type": "code",
      "execution_count": 7,
      "metadata": {},
      "outputs": [
        {
          "name": "stdout",
          "output_type": "stream",
          "text": [
            "ℹ️ Seat is already free.\n",
            "ℹ️ Seat is already free.\n",
            "ℹ️ Seat is already free.\n",
            "ℹ️ Seat is already free.\n",
            "ℹ️ Seat is already free.\n",
            "ℹ️ Seat is already free.\n",
            "ℹ️ Seat is already free.\n",
            "ℹ️ Seat is already free.\n",
            "ℹ️ Seat is already free.\n",
            "ℹ️ Seat is already free.\n",
            "ℹ️ Seat is already free.\n",
            "ℹ️ Seat is already free.\n",
            "ℹ️ Seat is already free.\n",
            "ℹ️ Seat is already free.\n",
            "ℹ️ Seat is already free.\n",
            "ℹ️ Seat is already free.\n",
            "ℹ️ Seat is already free.\n",
            "ℹ️ Seat is already free.\n",
            "ℹ️ Seat is already free.\n",
            "ℹ️ Seat is already free.\n",
            "ℹ️ Seat is already free.\n",
            "ℹ️ Seat is already free.\n",
            "ℹ️ Seat is already free.\n",
            "ℹ️ Seat is already free.\n",
            "\n",
            "🪑 Current Seating Plan:\n",
            "\n",
            "Table 1: Diana, Uma, Kevin, Julia\n",
            "Table 2: Oscar, Mason, Hannah, George\n",
            "Table 3: Charlie, Sophia, Paula, Fiona\n",
            "Table 4: Tom, Luna, Alice, Wendy\n",
            "Table 5: Victor, Nina, Quinn, Bob\n",
            "Table 6: Xander, Riley, Ivan, Ethan\n",
            "\n",
            "✅ Seating arrangement saved to 'Seating_plan.txt' successfully!\n"
          ]
        }
      ],
      "source": [
        "output_file = 'Seating_plan.txt'\n",
        "open_space = OpenSpace(number_of_tables=6, seats_per_table=4)\n",
        "open_space.organize(new_collegues)\n",
        "open_space.display()\n",
        "open_space.store(output_file)"
      ]
    }
  ],
  "metadata": {
    "kernelspec": {
      "display_name": "Python 3",
      "language": "python",
      "name": "python3"
    },
    "language_info": {
      "codemirror_mode": {
        "name": "ipython",
        "version": 3
      },
      "file_extension": ".py",
      "mimetype": "text/x-python",
      "name": "python",
      "nbconvert_exporter": "python",
      "pygments_lexer": "ipython3",
      "version": "3.14.0"
    }
  },
  "nbformat": 4,
  "nbformat_minor": 2
}
