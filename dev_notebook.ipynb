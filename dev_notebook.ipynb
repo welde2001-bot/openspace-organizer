{
 "cells": [
  {
   "cell_type": "code",
   "execution_count": 1,
   "id": "d2272fa0",
   "metadata": {},
   "outputs": [
    {
     "ename": "SyntaxError",
     "evalue": "invalid decimal literal (table.py, line 159)",
     "output_type": "error",
     "traceback": [
      "Traceback \u001b[36m(most recent call last)\u001b[39m:\n",
      "  File \u001b[92m~\\AppData\\Roaming\\Python\\Python314\\site-packages\\IPython\\core\\interactiveshell.py:3699\u001b[39m in \u001b[95mrun_code\u001b[39m\n    exec(code_obj, self.user_global_ns, self.user_ns)\n",
      "\u001b[36m  \u001b[39m\u001b[36mCell\u001b[39m\u001b[36m \u001b[39m\u001b[32mIn[1]\u001b[39m\u001b[32m, line 1\u001b[39m\n\u001b[31m    \u001b[39m\u001b[31mfrom utils.table import Seat, Table\u001b[39m\n",
      "  \u001b[36mFile \u001b[39m\u001b[32mc:\\openspace-organizer\\utils\\table.py:159\u001b[39m\n\u001b[31m    \u001b[39m\u001b[31m>>>>>>> 4ce2fc2c56218c38a4df6541e50062536c89208b\u001b[39m\n            ^\n\u001b[31mSyntaxError\u001b[39m\u001b[31m:\u001b[39m invalid decimal literal\n"
     ]
    }
   ],
   "source": [
    "from utils.table import Seat, Table\n",
    "from utils.openspace import OpenSpace"
   ]
  },
  {
   "cell_type": "code",
   "execution_count": null,
   "id": "b2206876",
   "metadata": {},
   "outputs": [
    {
     "name": "stdout",
     "output_type": "stream",
     "text": [
      "📋 Loaded 24 team members.\n"
     ]
    }
   ],
   "source": [
    "new_collegues = [\"Aleksei\",\"Amine\",\"Anna\",\"Astha\",\"Brigitta\",\n",
    "                 \"Bryan\",\"Ena\",\"Esra\",\"Faranges\",\"Frédéric\",\n",
    "                 \"Hamideh\",\"Héloïse\",\"Imran\",\"Intan K.\",\n",
    "                 \"Jens\",\"Kristin\",\"Michiel\",\"Nancy\",\"Pierrick\",\n",
    "                 \"Sandrine\",\"Tim\",\"Viktor\",\"Welederufeal\",\"Živile\"]\n",
    "print(f'📋 Loaded {len(new_collegues)} team members.')"
   ]
  },
  {
   "cell_type": "code",
   "execution_count": null,
   "id": "1eed7151",
   "metadata": {},
   "outputs": [
    {
     "ename": "NameError",
     "evalue": "name 'OpenSpace' is not defined",
     "output_type": "error",
     "traceback": [
      "\u001b[31m---------------------------------------------------------------------------\u001b[39m",
      "\u001b[31mNameError\u001b[39m                                 Traceback (most recent call last)",
      "\u001b[36mCell\u001b[39m\u001b[36m \u001b[39m\u001b[32mIn[4]\u001b[39m\u001b[32m, line 2\u001b[39m\n\u001b[32m      1\u001b[39m output_file = \u001b[33m'\u001b[39m\u001b[33mSeating_plan.txt\u001b[39m\u001b[33m'\u001b[39m\n\u001b[32m----> \u001b[39m\u001b[32m2\u001b[39m open_space = \u001b[43mOpenSpace\u001b[49m(number_of_tables=\u001b[32m6\u001b[39m, seats_per_table=\u001b[32m4\u001b[39m)\n\u001b[32m      3\u001b[39m open_space.organize(new_collegues)\n\u001b[32m      4\u001b[39m open_space.display()\n",
      "\u001b[31mNameError\u001b[39m: name 'OpenSpace' is not defined"
     ]
    }
   ],
   "source": [
    "output_file = 'Seating_plan.txt'\n",
    "open_space = OpenSpace(number_of_tables=6, seats_per_table=4)\n",
    "open_space.organize(new_collegues)\n",
    "open_space.display()\n",
    "open_space.store(output_file)"
   ]
  }
 ],
 "metadata": {
  "kernelspec": {
   "display_name": "Python 3",
   "language": "python",
   "name": "python3"
  },
  "language_info": {
   "codemirror_mode": {
    "name": "ipython",
    "version": 3
   },
   "file_extension": ".py",
   "mimetype": "text/x-python",
   "name": "python",
   "nbconvert_exporter": "python",
   "pygments_lexer": "ipython3",
   "version": "3.14.0"
  }
 },
 "nbformat": 4,
 "nbformat_minor": 5
}
