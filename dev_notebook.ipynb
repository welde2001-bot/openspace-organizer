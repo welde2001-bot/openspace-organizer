{
 "cells": [
  {
   "cell_type": "code",
   "execution_count": null,
   "id": "d2272fa0",
   "metadata": {},
   "outputs": [],
   "source": [
    "from utils.table import Seat, Table\n",
    "from utils.openspace import OpenSpace"
   ]
  },
  {
   "cell_type": "code",
   "execution_count": null,
   "id": "b2206876",
   "metadata": {},
   "outputs": [],
   "source": [
    "new_collegues = [\"Aleksei\",\"Amine\",\"Anna\",\"Astha\",\"Brigitta\",\n",
    "                 \"Bryan\",\"Ena\",\"Esra\",\"Faranges\",\"Frédéric\",\n",
    "                 \"Hamideh\",\"Héloïse\",\"Imran\",\"Intan K.\",\n",
    "                 \"Jens\",\"Kristin\",\"Michiel\",\"Nancy\",\"Pierrick\",\n",
    "                 \"Sandrine\",\"Tim\",\"Viktor\",\"Welederufeal\",\"Živile\"]\n",
    "print(f'📋 Loaded {len(new_collegues)} team members.')"
   ]
  },
  {
   "cell_type": "code",
   "execution_count": null,
   "id": "1eed7151",
   "metadata": {},
   "outputs": [],
   "source": [
    "output_file = 'Seating_plan.txt'\n",
    "open_space = OpenSpace(number_of_tables=6, seats_per_table=4)\n",
    "open_space.organize(new_collegues)\n",
    "open_space.display()\n",
    "open_space.store(output_file)"
   ]
  }
 ],
 "metadata": {
  "kernelspec": {
   "display_name": "Python 3",
   "language": "python",
   "name": "python3"
  },
  "language_info": {
   "codemirror_mode": {
    "name": "ipython",
    "version": 3
   },
   "file_extension": ".py",
   "mimetype": "text/x-python",
   "name": "python",
   "nbconvert_exporter": "python",
   "pygments_lexer": "ipython3",
   "version": "3.14.0"
  }
 },
 "nbformat": 4,
 "nbformat_minor": 5
}
